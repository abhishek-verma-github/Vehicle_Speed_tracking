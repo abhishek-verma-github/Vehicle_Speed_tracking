{
 "cells": [
  {
   "cell_type": "code",
   "execution_count": 1,
   "metadata": {},
   "outputs": [],
   "source": [
    "import pandas as pd\n",
    "import numpy as np\n",
    "import tensorflow as tf"
   ]
  },
  {
   "cell_type": "code",
   "execution_count": 19,
   "metadata": {},
   "outputs": [],
   "source": [
    "import os\n",
    "root_dir = '/Users/abhishekverma/Desktop/python-env/TrafficCongestion/trafficdb/'"
   ]
  },
  {
   "cell_type": "code",
   "execution_count": 31,
   "metadata": {},
   "outputs": [],
   "source": [
    "file = os.path.join(root_dir,'info.txt')\n",
    "column_names=['filename', 'date', 'timestamp', 'direction', 'day/night', 'weather', 'start_frame','num_frames', 'class', 'notes']\n",
    "df = pd.read_csv(file, sep='\\\\s+', names=column_names, skiprows=[0,])"
   ]
  },
  {
   "cell_type": "code",
   "execution_count": 33,
   "metadata": {},
   "outputs": [
    {
     "data": {
      "text/html": [
       "<div>\n",
       "<style scoped>\n",
       "    .dataframe tbody tr th:only-of-type {\n",
       "        vertical-align: middle;\n",
       "    }\n",
       "\n",
       "    .dataframe tbody tr th {\n",
       "        vertical-align: top;\n",
       "    }\n",
       "\n",
       "    .dataframe thead th {\n",
       "        text-align: right;\n",
       "    }\n",
       "</style>\n",
       "<table border=\"1\" class=\"dataframe\">\n",
       "  <thead>\n",
       "    <tr style=\"text-align: right;\">\n",
       "      <th></th>\n",
       "      <th>filename</th>\n",
       "      <th>date</th>\n",
       "      <th>timestamp</th>\n",
       "      <th>direction</th>\n",
       "      <th>day/night</th>\n",
       "      <th>weather</th>\n",
       "      <th>start_frame</th>\n",
       "      <th>num_frames</th>\n",
       "      <th>class</th>\n",
       "      <th>notes</th>\n",
       "    </tr>\n",
       "  </thead>\n",
       "  <tbody>\n",
       "    <tr>\n",
       "      <th>0</th>\n",
       "      <td>cctv052x2004080516x01638</td>\n",
       "      <td>20040805</td>\n",
       "      <td>16.01638</td>\n",
       "      <td>south</td>\n",
       "      <td>day</td>\n",
       "      <td>overcast</td>\n",
       "      <td>2</td>\n",
       "      <td>53</td>\n",
       "      <td>medium</td>\n",
       "      <td>NaN</td>\n",
       "    </tr>\n",
       "    <tr>\n",
       "      <th>1</th>\n",
       "      <td>cctv052x2004080516x01639</td>\n",
       "      <td>20040805</td>\n",
       "      <td>16.01639</td>\n",
       "      <td>south</td>\n",
       "      <td>day</td>\n",
       "      <td>overcast</td>\n",
       "      <td>2</td>\n",
       "      <td>53</td>\n",
       "      <td>medium</td>\n",
       "      <td>NaN</td>\n",
       "    </tr>\n",
       "    <tr>\n",
       "      <th>2</th>\n",
       "      <td>cctv052x2004080516x01640</td>\n",
       "      <td>20040805</td>\n",
       "      <td>16.01640</td>\n",
       "      <td>south</td>\n",
       "      <td>day</td>\n",
       "      <td>overcast</td>\n",
       "      <td>2</td>\n",
       "      <td>48</td>\n",
       "      <td>light</td>\n",
       "      <td>NaN</td>\n",
       "    </tr>\n",
       "    <tr>\n",
       "      <th>3</th>\n",
       "      <td>cctv052x2004080516x01641</td>\n",
       "      <td>20040805</td>\n",
       "      <td>16.01641</td>\n",
       "      <td>south</td>\n",
       "      <td>day</td>\n",
       "      <td>overcast</td>\n",
       "      <td>2</td>\n",
       "      <td>52</td>\n",
       "      <td>medium</td>\n",
       "      <td>NaN</td>\n",
       "    </tr>\n",
       "    <tr>\n",
       "      <th>4</th>\n",
       "      <td>cctv052x2004080516x01642</td>\n",
       "      <td>20040805</td>\n",
       "      <td>16.01642</td>\n",
       "      <td>south</td>\n",
       "      <td>day</td>\n",
       "      <td>overcast</td>\n",
       "      <td>2</td>\n",
       "      <td>51</td>\n",
       "      <td>medium</td>\n",
       "      <td>NaN</td>\n",
       "    </tr>\n",
       "  </tbody>\n",
       "</table>\n",
       "</div>"
      ],
      "text/plain": [
       "                   filename      date  timestamp direction day/night  \\\n",
       "0  cctv052x2004080516x01638  20040805   16.01638     south       day   \n",
       "1  cctv052x2004080516x01639  20040805   16.01639     south       day   \n",
       "2  cctv052x2004080516x01640  20040805   16.01640     south       day   \n",
       "3  cctv052x2004080516x01641  20040805   16.01641     south       day   \n",
       "4  cctv052x2004080516x01642  20040805   16.01642     south       day   \n",
       "\n",
       "    weather  start_frame  num_frames   class notes  \n",
       "0  overcast            2          53  medium   NaN  \n",
       "1  overcast            2          53  medium   NaN  \n",
       "2  overcast            2          48   light   NaN  \n",
       "3  overcast            2          52  medium   NaN  \n",
       "4  overcast            2          51  medium   NaN  "
      ]
     },
     "execution_count": 33,
     "metadata": {},
     "output_type": "execute_result"
    }
   ],
   "source": [
    "df.head()"
   ]
  },
  {
   "cell_type": "code",
   "execution_count": 34,
   "metadata": {},
   "outputs": [
    {
     "data": {
      "text/plain": [
       "array(['south'], dtype=object)"
      ]
     },
     "execution_count": 34,
     "metadata": {},
     "output_type": "execute_result"
    }
   ],
   "source": [
    "df['direction'].unique()"
   ]
  },
  {
   "cell_type": "code",
   "execution_count": 35,
   "metadata": {},
   "outputs": [
    {
     "data": {
      "text/plain": [
       "array(['day'], dtype=object)"
      ]
     },
     "execution_count": 35,
     "metadata": {},
     "output_type": "execute_result"
    }
   ],
   "source": [
    "df['day/night'].unique()"
   ]
  },
  {
   "cell_type": "code",
   "execution_count": 36,
   "metadata": {},
   "outputs": [
    {
     "data": {
      "text/plain": [
       "array([53, 48, 52, 51, 49, 47, 50, 44, 43])"
      ]
     },
     "execution_count": 36,
     "metadata": {},
     "output_type": "execute_result"
    }
   ],
   "source": [
    "df['num_frames'].unique()"
   ]
  },
  {
   "cell_type": "code",
   "execution_count": 37,
   "metadata": {},
   "outputs": [
    {
     "data": {
      "text/plain": [
       "array(['medium', 'light', 'heavy'], dtype=object)"
      ]
     },
     "execution_count": 37,
     "metadata": {},
     "output_type": "execute_result"
    }
   ],
   "source": [
    "df['class'].unique()"
   ]
  },
  {
   "cell_type": "code",
   "execution_count": null,
   "metadata": {},
   "outputs": [],
   "source": [
    "df['direction'].unique()"
   ]
  }
 ],
 "metadata": {
  "kernelspec": {
   "display_name": "Python 3",
   "language": "python",
   "name": "python3"
  },
  "language_info": {
   "codemirror_mode": {
    "name": "ipython",
    "version": 3
   },
   "file_extension": ".py",
   "mimetype": "text/x-python",
   "name": "python",
   "nbconvert_exporter": "python",
   "pygments_lexer": "ipython3",
   "version": "3.7.6"
  }
 },
 "nbformat": 4,
 "nbformat_minor": 4
}
